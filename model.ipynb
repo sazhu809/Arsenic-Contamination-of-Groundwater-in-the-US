{
 "cells": [
  {
   "cell_type": "code",
   "execution_count": 1,
   "id": "f0fbf169",
   "metadata": {},
   "outputs": [],
   "source": [
    "import pandas as pd\n",
    "import numpy as np\n",
    "import sklearn as skl\n",
    "import pickle\n",
    "from sklearn.preprocessing import StandardScaler\n",
    "from sklearn.model_selection import train_test_split\n",
    "from sklearn.linear_model import LogisticRegression\n",
    "from sklearn.metrics import accuracy_score\n",
    "\n",
    "import warnings\n",
    "warnings.filterwarnings('ignore')"
   ]
  },
  {
   "cell_type": "code",
   "execution_count": 2,
   "id": "6ba43fb6",
   "metadata": {},
   "outputs": [
    {
     "name": "stdout",
     "output_type": "stream",
     "text": [
      "<class 'pandas.core.frame.DataFrame'>\n",
      "RangeIndex: 19771 entries, 0 to 19770\n",
      "Data columns (total 6 columns):\n",
      " #   Column            Non-Null Count  Dtype  \n",
      "---  ------            --------------  -----  \n",
      " 0   LAT               19771 non-null  float64\n",
      " 1   LON               19771 non-null  float64\n",
      " 2   WELL_DEPTH        19771 non-null  float64\n",
      " 3   UNDER_5           19771 non-null  int64  \n",
      " 4   CURRENT_STANDARD  19771 non-null  int64  \n",
      " 5   1942_STANDARD     19771 non-null  int64  \n",
      "dtypes: float64(3), int64(3)\n",
      "memory usage: 926.9 KB\n"
     ]
    }
   ],
   "source": [
    "df = pd.read_csv('Resources/features_and_target.csv')\n",
    "df.info()"
   ]
  },
  {
   "cell_type": "code",
   "execution_count": 3,
   "id": "121312a9",
   "metadata": {},
   "outputs": [],
   "source": [
    "X = df[['LAT', 'LON']]\n",
    "X = X.to_numpy()\n",
    "y = df[['UNDER_5']].values.reshape(-1, 1)\n",
    "y_cur = df[['CURRENT_STANDARD']].values.reshape(-1, 1)\n",
    "y_1942 = df[['1942_STANDARD']].values.reshape(-1, 1)"
   ]
  },
  {
   "cell_type": "code",
   "execution_count": 4,
   "id": "0a8e80e6",
   "metadata": {},
   "outputs": [
    {
     "data": {
      "text/plain": [
       "0    15502\n",
       "1     4269\n",
       "Name: UNDER_5, dtype: int64"
      ]
     },
     "execution_count": 4,
     "metadata": {},
     "output_type": "execute_result"
    }
   ],
   "source": [
    "df['UNDER_5'].value_counts()"
   ]
  },
  {
   "cell_type": "code",
   "execution_count": 5,
   "id": "04032868",
   "metadata": {},
   "outputs": [],
   "source": [
    "X_train, X_test, y_train, y_test = train_test_split(X, y, random_state=42, stratify=y)\n",
    "X_cur_train, X_cur_test, y_cur_train, y_cur_test = train_test_split(X, y_cur, random_state=42, stratify=y_cur)\n",
    "X_1942_train, X_1942_test, y_1942_train, y_1942_test = train_test_split(X, y_1942, random_state=42, stratify=y_1942)"
   ]
  },
  {
   "cell_type": "code",
   "execution_count": 6,
   "id": "455cf6ff",
   "metadata": {},
   "outputs": [
    {
     "data": {
      "text/plain": [
       "LogisticRegression(random_state=42)"
      ]
     },
     "execution_count": 6,
     "metadata": {},
     "output_type": "execute_result"
    }
   ],
   "source": [
    "classifier = LogisticRegression(solver='lbfgs', random_state=42)\n",
    "classifier_cur = LogisticRegression(solver='lbfgs', random_state=42)\n",
    "classifier_1942 = LogisticRegression(solver='lbfgs', random_state=42)\n",
    "\n",
    "classifier.fit(X_train, y_train)\n",
    "classifier_cur.fit(X_cur_train, y_cur_train)\n",
    "classifier_1942.fit(X_1942_train, y_1942_train)"
   ]
  },
  {
   "cell_type": "code",
   "execution_count": 7,
   "id": "2bc3d67f",
   "metadata": {},
   "outputs": [],
   "source": [
    "predictions = classifier.predict(X_test)\n",
    "predictions_cur = classifier.predict(X_cur_test)\n",
    "predictions_1942 = classifier_1942.predict(X_1942_test)"
   ]
  },
  {
   "cell_type": "code",
   "execution_count": 8,
   "id": "b01aa275",
   "metadata": {},
   "outputs": [
    {
     "name": "stdout",
     "output_type": "stream",
     "text": [
      "0.7841391867287073\n",
      "0.8792231438397734\n",
      "0.9805785959943354\n"
     ]
    }
   ],
   "source": [
    "print(f'{accuracy_score(y_test, predictions)}')\n",
    "print(f'{accuracy_score(y_cur_test, predictions_cur)}')\n",
    "print(f'{accuracy_score(y_1942_test, predictions_1942)}')"
   ]
  },
  {
   "cell_type": "code",
   "execution_count": 9,
   "id": "4630e52b",
   "metadata": {},
   "outputs": [],
   "source": [
    "with open('Resources/Trained_Models/under5.pkl','wb') as f:\n",
    "    pickle.dump(classifier,f)\n",
    "with open('Resources/Trained_Models/current.pkl','wb') as f:\n",
    "    pickle.dump(classifier_cur,f)\n",
    "with open('Resources/Trained_Models/oldStandard.pkl','wb') as f:\n",
    "    pickle.dump(classifier_1942,f)"
   ]
  }
 ],
 "metadata": {
  "kernelspec": {
   "display_name": "Python 3 (ipykernel)",
   "language": "python",
   "name": "python3"
  },
  "language_info": {
   "codemirror_mode": {
    "name": "ipython",
    "version": 3
   },
   "file_extension": ".py",
   "mimetype": "text/x-python",
   "name": "python",
   "nbconvert_exporter": "python",
   "pygments_lexer": "ipython3",
   "version": "3.7.7"
  }
 },
 "nbformat": 4,
 "nbformat_minor": 5
}
